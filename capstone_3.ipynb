{
 "cells": [
  {
   "cell_type": "markdown",
   "metadata": {},
   "source": [
    "# Write Functions for EDA"
   ]
  },
  {
   "cell_type": "markdown",
   "metadata": {},
   "source": [
    "### Generating Wordclouds:"
   ]
  },
  {
   "cell_type": "code",
   "execution_count": 5,
   "metadata": {},
   "outputs": [],
   "source": [
    "from wordcloud import WordCloud\n",
    "import matplotlib.pyplot as plt\n",
    "\n",
    "def plot_wordcloud(text, figname='wordcloud', colormap='Pastel2', stop_words=[], save=False):\n",
    "    '''\n",
    "    Takes a string and plots the x most common words. \n",
    "    Set color by changing rgb parameter\n",
    "    Font path may vary, if error use font_path=None\n",
    "    \n",
    "    '''\n",
    "    font_path = \"/Library/Fonts/DIN Condensed Bold.ttf\"\n",
    "    wc = WordCloud(background_color=\"white\",max_words=25,\n",
    "                   collocations=False, font_path=font_path, scale=5,stopwords=stop_words, colormap=colormap)#, color_func=lambda *args, **kwargs: rgb)\n",
    "    wc.generate(text)\n",
    "    \n",
    "    fig, ax = plt.subplots(figsize=(14,18))\n",
    "    plt.imshow(wc)\n",
    "    plt.axis('off')\n",
    "    plt.tight_layout()\n",
    "    if save == True:\n",
    "        plt.savefig('data/wordclouds/{}'.format(figname), dpi=240)\n"
   ]
  },
  {
   "cell_type": "markdown",
   "metadata": {},
   "source": [
    "# Text Preprocessing "
   ]
  },
  {
   "cell_type": "code",
   "execution_count": 6,
   "metadata": {},
   "outputs": [],
   "source": [
    "from IPython.core.interactiveshell import InteractiveShell\n",
    "InteractiveShell.ast_node_interactivity = \"all\""
   ]
  },
  {
   "cell_type": "code",
   "execution_count": 177,
   "metadata": {},
   "outputs": [],
   "source": [
    "import csv\n",
    "import re #regular expression\n",
    "from textblob import TextBlob\n",
    "import string\n",
    "import preprocessor as p\n",
    "from nltk.tokenize import word_tokenize\n",
    "import pandas as pd\n",
    "import numpy as np\n",
    "\n",
    "custom_stop_words =  {'rt','new','demsinphilly','one', 'amp', 'say', 'day', 'us', 'say', 'go', 'com', 'state', 'tweet', 'politics',\n",
    " 'democrats',\n",
    " 'political',\n",
    " 'philly',\n",
    " 'dnc2016',\n",
    " 'dncleak'\n",
    " 'dncinphl',\n",
    " 'convention',\n",
    " 'democratic',\n",
    " 'dnc',\n",
    " 'demconvention',\n",
    " 'things',\n",
    " 'talk',\n",
    " 'like',\n",
    " 'national',\n",
    " 'pennsylvania',\n",
    " 'speech',\n",
    " 'live',\"n't\",\"'re\",\"'s\",\"doesn't\", 'in', 'down', 'you', 's', \"weren't\", 'before', 'mustn', 'shan', \"isn't\", 'mightn', 'than', 'aren', 'that', 'from', \"that'll\", 'wasn', \"should've\", 'weren', 'do', 'once', 'those', \"aren't\", 'no', 'hasn', 'himself', 'own', 'shouldn', 'does', 'all', 'your', 'isn', 'm', 'has', 'been', 'these', \"hadn't\", 'because', 'with', 'having', 'didn', 'up', 'myself', 'between', 'for', 'is', 'at', 'where', 'and', 'be', 'won', 'll', 'or', \"mightn't\", 'above', 'too', \"you'll\", \"won't\", 'he', 'have', 'into', 'of', 'after', 'ma', 'just', \"didn't\", 'am', 'but', 'couldn', 'the', 'nor', 'being', 'same', 'will', 'theirs', 'while', 'again', 't', 'can', \"shan't\", 'off', 'any', 'd', 'by', 'our', 'some', 'so', 'themselves', 'what', 'an', 'i', 'only', 'as', 'are', \"you're\", 'they', 'both', 'them', 'very', 'other', 'a', 'few', \"you've\", \"wasn't\", 'yourselves', 'over', \"don't\", 've', 'against', 'below', 'was', 'my', 'out', 'doing', \"needn't\", 'did', 'about', \"hasn't\", 'whom', 'how', 'why', 'further', 'o', 'on', 'not', 'ain', \"you'd\", 'here', 'y', 'if', \"haven't\", 'she', 'during', 'we', 'ours', 'through', 'then', 'her', \"she's\", 'their', 'which', 'don', 'hadn', 'its', 'yours', 'had', 'me', 'his', 'hers', 'when', 're', 'most', 'itself', \"it's\", 'under', 'now', 'to', 'him', \"mustn't\", 'yourself', 'should', 'until', 'it', \"couldn't\", 'who', 'each', \"shouldn't\", 'there', 'ourselves', 'haven', 'wouldn', 'herself', \"wouldn't\", 'needn', 'were', 'more', 'this', 'doesn', 'such'}\n",
    "\n",
    "\n",
    "p.set_options(p.OPT.URL, p.OPT.EMOJI, p.OPT.MENTION, p.OPT.SMILEY, p.OPT.NUMBER, p.OPT.HASHTAG)\n",
    "\n",
    "#HappyEmoticons\n",
    "emoticons_happy = set([\n",
    "    ':-)', ':)', ';)', ':o)', ':]', ':3', ':c)', ':>', '=]', '8)', '=)', ':}',\n",
    "    ':^)', ':-D', ':D', '8-D', '8D', 'x-D', 'xD', 'X-D', 'XD', '=-D', '=D',\n",
    "    '=-3', '=3', ':-))', \":'-)\", \":')\", ':*', ':^*', '>:P', ':-P', ':P', 'X-P',\n",
    "    'x-p', 'xp', 'XP', ':-p', ':p', '=p', ':-b', ':b', '>:)', '>;)', '>:-)',\n",
    "    '<3'\n",
    "    ])\n",
    "\n",
    "# Sad Emoticons\n",
    "emoticons_sad = set([\n",
    "    ':L', ':-/', '>:/', ':S', '>:[', ':@', ':-(', ':[', ':-||', '=L', ':<',\n",
    "    ':-[', ':-<', '=\\\\', '=/', '>:(', ':(', '>.<', \":'-(\", \":'(\", ':\\\\', ':-c',\n",
    "    ':c', ':{', '>:\\\\', ';('\n",
    "    ])\n",
    "\n",
    "#Emoji patterns\n",
    "emoji_pattern = re.compile(\"[\"\n",
    "         u\"\\U0001F600-\\U0001F64F\"  # emoticons\n",
    "         u\"\\U0001F300-\\U0001F5FF\"  # symbols & pictographs\n",
    "         u\"\\U0001F680-\\U0001F6FF\"  # transport & map symbols\n",
    "         u\"\\U0001F1E0-\\U0001F1FF\"  # flags (iOS)\n",
    "         u\"\\U00002702-\\U000027B0\"\n",
    "         u\"\\U000024C2-\\U0001F251\"\n",
    "         \"]+\", flags=re.UNICODE)\n",
    "#combine sad and happy emoticons\n",
    "emoticons = emoticons_happy.union(emoticons_sad)\n",
    "\n",
    "def clean_tweets(tweet):\n",
    "    tweet=p.clean(tweet).lower()\n",
    "    #stop_words = set(stopwords.words('english'))\n",
    "    word_tokens = word_tokenize(tweet)\n",
    "#after tweepy preprocessing the colon symbol left remain after      #removing mentions\n",
    "    tweet = re.sub(r':', '', tweet)\n",
    "    tweet = re.sub(r'‚Ä¶', '', tweet)\n",
    "#replace consecutive non-ASCII characters with a space\n",
    "    tweet = re.sub(r'[^\\x00-\\x7F]+',' ', tweet)\n",
    "#remove emojis from tweet\n",
    "    tweet = emoji_pattern.sub(r'', tweet)\n",
    "#filter using NLTK library append it to a string\n",
    "    filtered_tweet = [w for w in word_tokens if not w in custom_stop_words]\n",
    "    filtered_tweet = []\n",
    "#looping through conditions\n",
    "    for w in word_tokens:\n",
    "#check tokens against stop words , emoticons and punctuations\n",
    "        if w not in custom_stop_words and w not in emoticons and w not in string.punctuation:\n",
    "            filtered_tweet.append(w)\n",
    "    return ' '.join(filtered_tweet)\n",
    "    #print(word_tokens)\n",
    "    #print(filtered_sentence)return tweet"
   ]
  },
  {
   "cell_type": "code",
   "execution_count": null,
   "metadata": {},
   "outputs": [],
   "source": [
    "df = pd.read_csv('large_data/million-dconvention-tweets.csv')\n",
    "df.describe()\n",
    "df.columns"
   ]
  },
  {
   "cell_type": "code",
   "execution_count": null,
   "metadata": {},
   "outputs": [],
   "source": [
    "#clean text column\n",
    "df['text'] = df['text'].apply(lambda x: clean_tweets(x))"
   ]
  },
  {
   "cell_type": "code",
   "execution_count": null,
   "metadata": {},
   "outputs": [],
   "source": [
    "#clean description column\n",
    "df['user_description'].fillna(value='', inplace=True)\n",
    "df['user_description'] = df['user_description'].apply(lambda x: clean_tweets(x))"
   ]
  },
  {
   "cell_type": "code",
   "execution_count": null,
   "metadata": {},
   "outputs": [],
   "source": [
    "#clean user location column\n",
    "df['user_location'].fillna(value='', inplace=True)\n",
    "df['user_location'] = df['user_location'].apply(lambda x: clean_tweets(x))"
   ]
  },
  {
   "cell_type": "code",
   "execution_count": null,
   "metadata": {},
   "outputs": [],
   "source": [
    "#save the cleaned text df\n",
    "df.to_csv('/Users/jacobmullins/data-science-immersive/capstone_2-3/large_data/million_df.csv')"
   ]
  },
  {
   "cell_type": "markdown",
   "metadata": {},
   "source": [
    "# Create User Summary DataFrame for Clustering Users\n",
    "Group by users and combine their text and hashtag features (respectively)"
   ]
  },
  {
   "cell_type": "code",
   "execution_count": 71,
   "metadata": {},
   "outputs": [],
   "source": [
    "df = pd.read_csv('large_data/million_df.csv', index_col=0)\n",
    "df['user_description'].fillna('', inplace=True)"
   ]
  },
  {
   "cell_type": "code",
   "execution_count": 72,
   "metadata": {},
   "outputs": [
    {
     "data": {
      "text/plain": [
       "1"
      ]
     },
     "execution_count": 72,
     "metadata": {},
     "output_type": "execute_result"
    },
    {
     "data": {
      "text/plain": [
       "dtype('O')"
      ]
     },
     "execution_count": 72,
     "metadata": {},
     "output_type": "execute_result"
    }
   ],
   "source": [
    "#are any screen names missing? if not, use these as the global key/index\n",
    "df['user_screen_name'].isna().nunique()\n",
    "#all screen names are present. some are floats though? (from error below)\n",
    "#ensure that all usernames are strings\n",
    "df['user_screen_name'] = df['user_screen_name'].astype('str')\n",
    "df['user_screen_name'].dtypes"
   ]
  },
  {
   "cell_type": "code",
   "execution_count": 73,
   "metadata": {},
   "outputs": [
    {
     "data": {
      "text/plain": [
       "0           adelaide south australia\n",
       "1           winnipeg manitoba canada\n",
       "2                      united states\n",
       "3                      united states\n",
       "4                      united states\n",
       "                     ...            \n",
       "605839                 united states\n",
       "605840                panama city fl\n",
       "605841            south carolina usa\n",
       "605842    anywhere usa ghana england\n",
       "605843                 united states\n",
       "Name: user_location, Length: 590893, dtype: object"
      ]
     },
     "execution_count": 73,
     "metadata": {},
     "output_type": "execute_result"
    }
   ],
   "source": [
    "features = ['user_location',\n",
    "       'favorite_count', \n",
    "        'retweet_count', \n",
    "       'text', \n",
    "       'user_screen_name', 'user_description',\n",
    "       'user_followers_count', \n",
    "       'user_name']\n",
    "\n",
    "\n",
    "final_df = df[features]\n",
    "final_df = final_df[final_df['text'].isna()==False]\n",
    "final_df['user_location'].fillna(value='', inplace=True)\n",
    "final_df['user_location']"
   ]
  },
  {
   "cell_type": "code",
   "execution_count": 74,
   "metadata": {},
   "outputs": [
    {
     "data": {
      "text/plain": [
       "user_screen_name\n",
       "000120o         rt meryl streep celebrated breaking glass ceil...\n",
       "0001Angel       rt sanders `` hillary clinton must become next...\n",
       "000Dillon000    rt muslim talking trump disrespecting women re...\n",
       "0014Priya             latest screenwriting tvseries movies thanks\n",
       "001Leslie                                  wow .. moving touching\n",
       "                                      ...                        \n",
       "zzzdeprived     amazing job ca wait see win rt `` america grea...\n",
       "zzzdogman       rt bernie taught anything loves money especial...\n",
       "zzzpills        rt subway filled sandernistas never miss oppor...\n",
       "zzzzalex                                          rt mostly false\n",
       "zzzzzabeth      rt much stronger together rt pass torch iconic...\n",
       "Name: combined_text, Length: 248744, dtype: object"
      ]
     },
     "execution_count": 74,
     "metadata": {},
     "output_type": "execute_result"
    }
   ],
   "source": [
    "#group by username and select only the text columns\n",
    "\n",
    "combined_text = final_df.groupby(['user_screen_name']).apply(lambda x: ' '.join(x['text']))\n",
    "combined_text.rename('combined_text',inplace=True)\n",
    "final_df = final_df.merge(combined_text, left_on='user_screen_name',right_index=True)\n",
    "\n",
    "user_summary = final_df.groupby(['user_screen_name', 'user_description', 'combined_text', 'user_location']).mean() \n",
    "# ^excluded the user location because when I included it, only got 186,000 of the 250,000 users. maybe add back later\n",
    "user_summary.reset_index(inplace=True)"
   ]
  },
  {
   "cell_type": "code",
   "execution_count": 75,
   "metadata": {},
   "outputs": [
    {
     "data": {
      "text/html": [
       "<div>\n",
       "<style scoped>\n",
       "    .dataframe tbody tr th:only-of-type {\n",
       "        vertical-align: middle;\n",
       "    }\n",
       "\n",
       "    .dataframe tbody tr th {\n",
       "        vertical-align: top;\n",
       "    }\n",
       "\n",
       "    .dataframe thead th {\n",
       "        text-align: right;\n",
       "    }\n",
       "</style>\n",
       "<table border=\"1\" class=\"dataframe\">\n",
       "  <thead>\n",
       "    <tr style=\"text-align: right;\">\n",
       "      <th></th>\n",
       "      <th>user_screen_name</th>\n",
       "      <th>user_description</th>\n",
       "      <th>combined_text</th>\n",
       "      <th>user_location</th>\n",
       "      <th>favorite_count</th>\n",
       "      <th>retweet_count</th>\n",
       "      <th>user_followers_count</th>\n",
       "    </tr>\n",
       "  </thead>\n",
       "  <tbody>\n",
       "    <tr>\n",
       "      <th>0</th>\n",
       "      <td>000120o</td>\n",
       "      <td></td>\n",
       "      <td>rt meryl streep celebrated breaking glass ceil...</td>\n",
       "      <td>italia-roma</td>\n",
       "      <td>0.0</td>\n",
       "      <td>19.000000</td>\n",
       "      <td>3447.0</td>\n",
       "    </tr>\n",
       "    <tr>\n",
       "      <th>1</th>\n",
       "      <td>0001Angel</td>\n",
       "      <td>liberal</td>\n",
       "      <td>rt sanders `` hillary clinton must become next...</td>\n",
       "      <td></td>\n",
       "      <td>0.0</td>\n",
       "      <td>166.000000</td>\n",
       "      <td>639.0</td>\n",
       "    </tr>\n",
       "    <tr>\n",
       "      <th>2</th>\n",
       "      <td>000Dillon000</td>\n",
       "      <td>independent christian conservative army vet ar...</td>\n",
       "      <td>rt muslim talking trump disrespecting women re...</td>\n",
       "      <td></td>\n",
       "      <td>0.0</td>\n",
       "      <td>179.500000</td>\n",
       "      <td>4181.0</td>\n",
       "    </tr>\n",
       "    <tr>\n",
       "      <th>3</th>\n",
       "      <td>0014Priya</td>\n",
       "      <td>screenwriter yogini movie art book music natur...</td>\n",
       "      <td>latest screenwriting tvseries movies thanks</td>\n",
       "      <td>netherlands</td>\n",
       "      <td>0.0</td>\n",
       "      <td>0.000000</td>\n",
       "      <td>524.0</td>\n",
       "    </tr>\n",
       "    <tr>\n",
       "      <th>4</th>\n",
       "      <td>001Leslie</td>\n",
       "      <td>always love dad</td>\n",
       "      <td>wow .. moving touching</td>\n",
       "      <td></td>\n",
       "      <td>0.0</td>\n",
       "      <td>0.000000</td>\n",
       "      <td>162.0</td>\n",
       "    </tr>\n",
       "    <tr>\n",
       "      <th>...</th>\n",
       "      <td>...</td>\n",
       "      <td>...</td>\n",
       "      <td>...</td>\n",
       "      <td>...</td>\n",
       "      <td>...</td>\n",
       "      <td>...</td>\n",
       "      <td>...</td>\n",
       "    </tr>\n",
       "    <tr>\n",
       "      <th>248780</th>\n",
       "      <td>zzzdeprived</td>\n",
       "      <td></td>\n",
       "      <td>amazing job ca wait see win rt `` america grea...</td>\n",
       "      <td>ohio</td>\n",
       "      <td>0.0</td>\n",
       "      <td>55.500000</td>\n",
       "      <td>158.0</td>\n",
       "    </tr>\n",
       "    <tr>\n",
       "      <th>248781</th>\n",
       "      <td>zzzdogman</td>\n",
       "      <td>deplorable dreg cagey old vet- reagan trump ma...</td>\n",
       "      <td>rt bernie taught anything loves money especial...</td>\n",
       "      <td>colorado</td>\n",
       "      <td>0.0</td>\n",
       "      <td>289.500000</td>\n",
       "      <td>11748.5</td>\n",
       "    </tr>\n",
       "    <tr>\n",
       "      <th>248782</th>\n",
       "      <td>zzzpills</td>\n",
       "      <td>lover mother earth bernie sanders</td>\n",
       "      <td>rt subway filled sandernistas never miss oppor...</td>\n",
       "      <td>austin tx</td>\n",
       "      <td>0.0</td>\n",
       "      <td>252.923077</td>\n",
       "      <td>357.0</td>\n",
       "    </tr>\n",
       "    <tr>\n",
       "      <th>248783</th>\n",
       "      <td>zzzzalex</td>\n",
       "      <td></td>\n",
       "      <td>rt mostly false</td>\n",
       "      <td></td>\n",
       "      <td>0.0</td>\n",
       "      <td>453.000000</td>\n",
       "      <td>10.0</td>\n",
       "    </tr>\n",
       "    <tr>\n",
       "      <th>248784</th>\n",
       "      <td>zzzzzabeth</td>\n",
       "      <td></td>\n",
       "      <td>rt much stronger together rt pass torch iconic...</td>\n",
       "      <td>santa clara ca</td>\n",
       "      <td>0.0</td>\n",
       "      <td>2377.000000</td>\n",
       "      <td>278.0</td>\n",
       "    </tr>\n",
       "  </tbody>\n",
       "</table>\n",
       "<p>248785 rows × 7 columns</p>\n",
       "</div>"
      ],
      "text/plain": [
       "       user_screen_name                                   user_description  \\\n",
       "0               000120o                                                      \n",
       "1             0001Angel                                            liberal   \n",
       "2          000Dillon000  independent christian conservative army vet ar...   \n",
       "3             0014Priya  screenwriter yogini movie art book music natur...   \n",
       "4             001Leslie                                    always love dad   \n",
       "...                 ...                                                ...   \n",
       "248780      zzzdeprived                                                      \n",
       "248781        zzzdogman  deplorable dreg cagey old vet- reagan trump ma...   \n",
       "248782         zzzpills                  lover mother earth bernie sanders   \n",
       "248783         zzzzalex                                                      \n",
       "248784       zzzzzabeth                                                      \n",
       "\n",
       "                                            combined_text   user_location  \\\n",
       "0       rt meryl streep celebrated breaking glass ceil...     italia-roma   \n",
       "1       rt sanders `` hillary clinton must become next...                   \n",
       "2       rt muslim talking trump disrespecting women re...                   \n",
       "3             latest screenwriting tvseries movies thanks     netherlands   \n",
       "4                                  wow .. moving touching                   \n",
       "...                                                   ...             ...   \n",
       "248780  amazing job ca wait see win rt `` america grea...            ohio   \n",
       "248781  rt bernie taught anything loves money especial...        colorado   \n",
       "248782  rt subway filled sandernistas never miss oppor...       austin tx   \n",
       "248783                                    rt mostly false                   \n",
       "248784  rt much stronger together rt pass torch iconic...  santa clara ca   \n",
       "\n",
       "        favorite_count  retweet_count  user_followers_count  \n",
       "0                  0.0      19.000000                3447.0  \n",
       "1                  0.0     166.000000                 639.0  \n",
       "2                  0.0     179.500000                4181.0  \n",
       "3                  0.0       0.000000                 524.0  \n",
       "4                  0.0       0.000000                 162.0  \n",
       "...                ...            ...                   ...  \n",
       "248780             0.0      55.500000                 158.0  \n",
       "248781             0.0     289.500000               11748.5  \n",
       "248782             0.0     252.923077                 357.0  \n",
       "248783             0.0     453.000000                  10.0  \n",
       "248784             0.0    2377.000000                 278.0  \n",
       "\n",
       "[248785 rows x 7 columns]"
      ]
     },
     "execution_count": 75,
     "metadata": {},
     "output_type": "execute_result"
    }
   ],
   "source": [
    "user_summary"
   ]
  },
  {
   "cell_type": "code",
   "execution_count": 14,
   "metadata": {},
   "outputs": [
    {
     "data": {
      "text/plain": [
       "113.25150230118375"
      ]
     },
     "execution_count": 14,
     "metadata": {},
     "output_type": "execute_result"
    }
   ],
   "source": [
    "user_summary.combined_text.apply(lambda x: len(x)).mean()\n",
    "# the average combined text length is 128 chars (standard length of a tweet)"
   ]
  },
  {
   "cell_type": "code",
   "execution_count": null,
   "metadata": {},
   "outputs": [],
   "source": [
    "# how many users are missing descriptions? 38,602\n",
    "user_summary[user_summary['user_description']=='']"
   ]
  },
  {
   "cell_type": "markdown",
   "metadata": {},
   "source": [
    "# Vectorize Tweet Text\n",
    "(using Gensim + GloVe)"
   ]
  },
  {
   "cell_type": "code",
   "execution_count": 29,
   "metadata": {},
   "outputs": [],
   "source": [
    "import logging\n",
    "logging.basicConfig(format='%(asctime)s : %(levelname)s : %(message)s', level=logging.INFO)\n",
    "import gensim.downloader as api\n",
    "import gensim\n",
    "from gensim.models.word2vec import Word2Vec"
   ]
  },
  {
   "cell_type": "code",
   "execution_count": 44,
   "metadata": {},
   "outputs": [
    {
     "name": "stderr",
     "output_type": "stream",
     "text": [
      "2020-06-08 15:39:39,596 : INFO : loading projection weights from /Users/jacobmullins/gensim-data/glove-twitter-25/glove-twitter-25.gz\n",
      "2020-06-08 15:41:08,912 : INFO : loaded (1193514, 25) matrix from /Users/jacobmullins/gensim-data/glove-twitter-25/glove-twitter-25.gz\n"
     ]
    }
   ],
   "source": [
    "#start with the glove-25 and increase if needed (50, 100, 200 available)\n",
    "glove_25 = api.load('glove-twitter-25')"
   ]
  },
  {
   "cell_type": "code",
   "execution_count": 88,
   "metadata": {},
   "outputs": [],
   "source": [
    "# take a look at the vocabulary\n",
    "for i, word in enumerate(glove_25.vocab):\n",
    "    if i == 20:\n",
    "        break\n",
    "    #print(word)\n",
    "\n",
    "# try to vectorize a word\n",
    "#sample_text = user_summary['combined_text'][0].split()\n",
    "#sample_text\n",
    "#glove_25.word_vec(sample_text[0])\n",
    "\n",
    "# test again with sentences\n",
    "sentences = user_summary['combined_text']\n",
    "#print(sentences)\n",
    "\n",
    "\n",
    "#write a function to loop through tweets and vectorize each word\n",
    "def sent_vectorizer(sent, model):\n",
    "    sent_vec =[]\n",
    "    numw = 0\n",
    "    for w in sent:\n",
    "        try:\n",
    "            if numw == 0:\n",
    "                sent_vec = model[w]\n",
    "            else:\n",
    "                sent_vec = np.add(sent_vec, model[w])\n",
    "            numw+=1\n",
    "        except:\n",
    "            pass\n",
    "     \n",
    "    return np.asarray(sent_vec) / numw\n",
    "\n",
    "X = []\n",
    "for sentence in sentences:\n",
    "    X.append(sent_vectorizer(sentence, glove_25))"
   ]
  },
  {
   "cell_type": "code",
   "execution_count": 91,
   "metadata": {},
   "outputs": [
    {
     "data": {
      "text/plain": [
       "248785"
      ]
     },
     "execution_count": 91,
     "metadata": {},
     "output_type": "execute_result"
    },
    {
     "data": {
      "text/plain": [
       "(248785, 7)"
      ]
     },
     "execution_count": 91,
     "metadata": {},
     "output_type": "execute_result"
    }
   ],
   "source": [
    "#verify that the number of vectors equals the number of tweets\n",
    "len(X)\n",
    "user_summary.shape"
   ]
  },
  {
   "cell_type": "markdown",
   "metadata": {},
   "source": [
    "# Cluster Users"
   ]
  },
  {
   "cell_type": "code",
   "execution_count": 98,
   "metadata": {},
   "outputs": [
    {
     "name": "stdout",
     "output_type": "stream",
     "text": [
      "Cluster id labels for inputted data\n",
      "[9 5 9 ... 9 1 9]\n",
      "Centroids data\n",
      "[[ 0.78363093  0.1202749  -0.09576832 -0.16861644 -0.01095276  0.03507455\n",
      "  -0.23821217  1.96866412  0.06084616 -0.15197079 -0.55814072 -1.3620993\n",
      "  -3.70638638 -0.07156021 -0.87716392 -0.52566289 -1.15550503 -0.00544099\n",
      "  -0.92769579  0.31770413 -0.28761601 -0.27947861  0.40541655  0.35576835\n",
      "   0.36598264]\n",
      " [ 0.5628938   0.20743167 -0.31180108 -0.14490282 -0.10727117  0.21689967\n",
      "  -0.15656922  1.97820328 -0.13427067 -0.18628472 -0.43851269 -1.1149554\n",
      "  -3.98937084  0.09448095 -0.62338662 -0.28304981 -0.85580387  0.01680854\n",
      "  -0.86936504  0.47930388 -0.1662217  -0.50078997  0.4654984   0.25097936\n",
      "   0.2302312 ]\n",
      " [ 0.64090516  0.17567717 -0.20781906 -0.21213329 -0.07790606  0.10327445\n",
      "  -0.11011874  1.90786865 -0.05614044 -0.10575339 -0.52543931 -1.13704269\n",
      "  -3.90900306  0.01658052 -0.82405935 -0.39676855 -0.99030711 -0.01056842\n",
      "  -0.93180892  0.37500567 -0.22558473 -0.38740312  0.43369594  0.28255078\n",
      "   0.28632754]\n",
      " [ 0.5559016   0.21172487 -0.21964413 -0.26085674 -0.13418853  0.11149762\n",
      "  -0.00232059  1.80883365 -0.11035749 -0.02409558 -0.54238867 -0.96610184\n",
      "  -4.03724643  0.0322867  -0.82235052 -0.34155274 -0.8567249  -0.03201062\n",
      "  -0.93297706  0.36351401 -0.17382885 -0.39771796  0.43111346  0.2729378\n",
      "   0.25527265]\n",
      " [ 0.66595563  0.40334508 -0.86993935 -0.48530831 -0.29111497  0.31164109\n",
      "  -0.04558436  2.10312081 -0.39793941  0.01925717 -0.50807765 -0.4041075\n",
      "  -3.84988435  0.36865571 -1.18174617 -0.23979693 -1.02800192 -0.08057767\n",
      "  -1.20551362  1.10703062 -0.06947027 -0.82254806  0.50908961  0.13315782\n",
      "   0.20692957]\n",
      " [ 0.61775347  0.13195457 -0.25059484 -0.17221352 -0.087359    0.10349541\n",
      "   0.05260014  1.86794811 -0.0955852   0.10673643 -0.50309566 -0.88307981\n",
      "  -3.77141852  0.04908914 -0.89850496 -0.50824201 -0.95709663 -0.00738669\n",
      "  -0.9954712   0.3422042  -0.15035729 -0.39881685  0.39471363  0.35577842\n",
      "   0.34953464]\n",
      " [ 0.53405342  0.23844111 -0.3294673  -0.34131084 -0.18506965  0.14072704\n",
      "   0.06702003  1.79977593 -0.11357017  0.10621057 -0.56219519 -0.6908914\n",
      "  -3.97719701  0.10733305 -0.88044038 -0.35042376 -0.77849187 -0.06348819\n",
      "  -0.98596825  0.47181128 -0.14360065 -0.46628196  0.42652563  0.31016057\n",
      "   0.23704761]\n",
      " [ 0.69967688  0.15158772 -0.2063987  -0.28724638 -0.07664075  0.03331384\n",
      "  -0.09265551  1.88993045 -0.01787801 -0.03886928 -0.57654669 -1.07920986\n",
      "  -3.80338605 -0.00103476 -0.98801803 -0.45996149 -1.09639723 -0.02815136\n",
      "  -0.9963886   0.37616401 -0.26241611 -0.34999822  0.4243478   0.30784513\n",
      "   0.32262429]\n",
      " [ 0.59962637 -0.20414117 -0.37309162 -0.01656434 -0.10103012  0.32976791\n",
      "   0.42985118  1.81637644 -0.28449275  0.56171127 -0.2583158  -0.58729613\n",
      "  -3.50755762  0.24012831 -0.60467264 -0.58740162 -0.8273027   0.01626291\n",
      "  -1.07606179  0.08624691  0.00986528 -0.39690021  0.07337182  0.49430489\n",
      "   0.41913768]\n",
      " [ 0.62754794  0.18363694 -0.26926622 -0.27415621 -0.11355864  0.09925049\n",
      "  -0.05343342  1.87956176 -0.07002707 -0.01897867 -0.54814879 -0.96694043\n",
      "  -3.88671597  0.05110794 -0.89387864 -0.39863314 -0.96532717 -0.02796968\n",
      "  -0.98270717  0.42545398 -0.21141092 -0.41627439  0.43359813  0.29909628\n",
      "   0.2817201 ]]\n",
      "Score (Opposite of the value of X on the K-means objective which is Sum of distances of samples to their closest cluster center):\n",
      "-32137.32169778732\n",
      "Silhouette_score: \n",
      "0.085466646\n"
     ]
    }
   ],
   "source": [
    "from nltk.cluster import KMeansClusterer\n",
    "import nltk\n",
    "import numpy as np \n",
    "from sklearn import cluster\n",
    "from sklearn import metrics\n",
    "\n",
    "model = glove_25\n",
    "sentences = user_summary['combined_text']\n",
    "NUM_CLUSTERS=10\n",
    "\n",
    "kmeans = cluster.KMeans(n_clusters=NUM_CLUSTERS).fit(X)\n",
    "\n",
    "labels = kmeans.labels_\n",
    "centroids = kmeans.cluster_centers_\n",
    "  \n",
    "print (\"Cluster id labels for inputted data\")\n",
    "print (labels)\n",
    "print (\"Centroids data\")\n",
    "print (centroids)\n",
    "  \n",
    "print (\"Score (Opposite of the value of X on the K-means objective which is Sum of distances of samples to their closest cluster center):\")\n",
    "print (kmeans.score(X))\n",
    "  \n",
    "silhouette_score = metrics.silhouette_score(X, labels, metric='euclidean')\n",
    "  \n",
    "print (\"Silhouette_score: \")\n",
    "print (silhouette_score)"
   ]
  },
  {
   "cell_type": "code",
   "execution_count": 104,
   "metadata": {},
   "outputs": [
    {
     "data": {
      "text/plain": [
       "<bound method BaseEstimator.get_params of KMeans(algorithm='auto', copy_x=True, init='k-means++', max_iter=300,\n",
       "       n_clusters=10, n_init=10, n_jobs=None, precompute_distances='auto',\n",
       "       random_state=None, tol=0.0001, verbose=0)>"
      ]
     },
     "execution_count": 104,
     "metadata": {},
     "output_type": "execute_result"
    }
   ],
   "source": [
    "kmeans.get_params"
   ]
  },
  {
   "cell_type": "code",
   "execution_count": 133,
   "metadata": {},
   "outputs": [],
   "source": [
    "#join cluster labels on the user_summary dataframe\n"
   ]
  },
  {
   "cell_type": "code",
   "execution_count": 21,
   "metadata": {},
   "outputs": [],
   "source": [
    "#compare clusters to communities"
   ]
  },
  {
   "cell_type": "markdown",
   "metadata": {},
   "source": [
    "# Create User Summaries for Labeled Community Data + TF-IDF Model"
   ]
  },
  {
   "cell_type": "markdown",
   "metadata": {},
   "source": [
    "#### 1.) Load df with processed text and descriptions"
   ]
  },
  {
   "cell_type": "code",
   "execution_count": 116,
   "metadata": {},
   "outputs": [
    {
     "data": {
      "text/plain": [
       "Index(['coordinates', 'created_at', 'hashtags', 'media', 'urls',\n",
       "       'favorite_count', 'id', 'in_reply_to_screen_name',\n",
       "       'in_reply_to_status_id', 'in_reply_to_user_id', 'lang', 'place',\n",
       "       'possibly_sensitive', 'retweet_count', 'reweet_id',\n",
       "       'retweet_screen_name', 'source', 'text', 'tweet_url', 'user_created_at',\n",
       "       'user_screen_name', 'user_default_profile_image', 'user_description',\n",
       "       'user_favourites_count', 'user_followers_count', 'user_friends_count',\n",
       "       'user_listed_count', 'user_location', 'user_name', 'user_screen_name.1',\n",
       "       'user_statuses_count', 'user_time_zone', 'user_urls', 'user_verified'],\n",
       "      dtype='object')"
      ]
     },
     "execution_count": 116,
     "metadata": {},
     "output_type": "execute_result"
    }
   ],
   "source": [
    "df = pd.read_csv('large_data/million_df.csv', index_col=0)\n",
    "#fill NaN text fields with blank text\n",
    "df['text'].fillna('', inplace=True)\n",
    "df['user_description'].fillna('', inplace=True)\n",
    "#df['hashtags'].fillna('', inplace=True)\n",
    "df['user_location'].fillna('', inplace=True)\n",
    "#make sure all rows are str type\n",
    "df['text'] = df['text'].astype('str')\n",
    "df['user_description'] = df['user_description'].astype('str')\n",
    "#df['hashtags'] = df['hashtags'].astype('str')\n",
    "df['user_location'] = df['user_location'].astype('str')\n",
    "df['user_screen_name'] = df['user_screen_name'].astype('str')\n",
    "# nodes = \n",
    "# edges = \n",
    "# tweets = 605,000\n",
    "# total users =\n",
    "df.columns"
   ]
  },
  {
   "cell_type": "markdown",
   "metadata": {},
   "source": [
    "#### 2.) Load labeled community df"
   ]
  },
  {
   "cell_type": "code",
   "execution_count": 117,
   "metadata": {},
   "outputs": [
    {
     "name": "stderr",
     "output_type": "stream",
     "text": [
      "/Users/jacobmullins/opt/anaconda3/lib/python3.7/site-packages/IPython/core/interactiveshell.py:3063: DtypeWarning: Columns (0,1) have mixed types.Specify dtype option on import or set low_memory=False.\n",
      "  interactivity=interactivity, compiler=compiler, result=result)\n"
     ]
    },
    {
     "data": {
      "text/html": [
       "<div>\n",
       "<style scoped>\n",
       "    .dataframe tbody tr th:only-of-type {\n",
       "        vertical-align: middle;\n",
       "    }\n",
       "\n",
       "    .dataframe tbody tr th {\n",
       "        vertical-align: top;\n",
       "    }\n",
       "\n",
       "    .dataframe thead th {\n",
       "        text-align: right;\n",
       "    }\n",
       "</style>\n",
       "<table border=\"1\" class=\"dataframe\">\n",
       "  <thead>\n",
       "    <tr style=\"text-align: right;\">\n",
       "      <th></th>\n",
       "      <th>Label</th>\n",
       "      <th>modularity_class</th>\n",
       "    </tr>\n",
       "    <tr>\n",
       "      <th>Id</th>\n",
       "      <th></th>\n",
       "      <th></th>\n",
       "    </tr>\n",
       "  </thead>\n",
       "  <tbody>\n",
       "    <tr>\n",
       "      <th>7874982</th>\n",
       "      <td>lauraleishman</td>\n",
       "      <td>0</td>\n",
       "    </tr>\n",
       "    <tr>\n",
       "      <th>18464266</th>\n",
       "      <td>peterdaou</td>\n",
       "      <td>13</td>\n",
       "    </tr>\n",
       "    <tr>\n",
       "      <th>25493304</th>\n",
       "      <td>zachhaller</td>\n",
       "      <td>2</td>\n",
       "    </tr>\n",
       "    <tr>\n",
       "      <th>539666970</th>\n",
       "      <td>NewsNeck</td>\n",
       "      <td>8</td>\n",
       "    </tr>\n",
       "    <tr>\n",
       "      <th>106182754</th>\n",
       "      <td>Richard_Schiff</td>\n",
       "      <td>13</td>\n",
       "    </tr>\n",
       "    <tr>\n",
       "      <th>...</th>\n",
       "      <td>...</td>\n",
       "      <td>...</td>\n",
       "    </tr>\n",
       "    <tr>\n",
       "      <th>241010173</th>\n",
       "      <td>NaN</td>\n",
       "      <td>2</td>\n",
       "    </tr>\n",
       "    <tr>\n",
       "      <th>159538373</th>\n",
       "      <td>NaN</td>\n",
       "      <td>13</td>\n",
       "    </tr>\n",
       "    <tr>\n",
       "      <th>236966874</th>\n",
       "      <td>NaN</td>\n",
       "      <td>68</td>\n",
       "    </tr>\n",
       "    <tr>\n",
       "      <th>301896199</th>\n",
       "      <td>NaN</td>\n",
       "      <td>323</td>\n",
       "    </tr>\n",
       "    <tr>\n",
       "      <th>574533982</th>\n",
       "      <td>NaN</td>\n",
       "      <td>6</td>\n",
       "    </tr>\n",
       "  </tbody>\n",
       "</table>\n",
       "<p>356313 rows × 2 columns</p>\n",
       "</div>"
      ],
      "text/plain": [
       "                    Label  modularity_class\n",
       "Id                                         \n",
       "7874982     lauraleishman                 0\n",
       "18464266        peterdaou                13\n",
       "25493304       zachhaller                 2\n",
       "539666970        NewsNeck                 8\n",
       "106182754  Richard_Schiff                13\n",
       "...                   ...               ...\n",
       "241010173             NaN                 2\n",
       "159538373             NaN                13\n",
       "236966874             NaN                68\n",
       "301896199             NaN               323\n",
       "574533982             NaN                 6\n",
       "\n",
       "[356313 rows x 2 columns]"
      ]
     },
     "execution_count": 117,
     "metadata": {},
     "output_type": "execute_result"
    }
   ],
   "source": [
    "#open labeled community nodes\n",
    "community_df = pd.read_csv('large_data/million_nodes.csv', index_col='Id')\n",
    "#take only the basic features for now\n",
    "community_df[['Label','modularity_class']]"
   ]
  },
  {
   "cell_type": "markdown",
   "metadata": {},
   "source": [
    "#### 3.) Merge community labels onto tweet df"
   ]
  },
  {
   "cell_type": "code",
   "execution_count": 118,
   "metadata": {},
   "outputs": [
    {
     "data": {
      "text/plain": [
       "1             1.0\n",
       "3            13.0\n",
       "4            13.0\n",
       "5            13.0\n",
       "6            13.0\n",
       "           ...   \n",
       "930911      613.0\n",
       "930912    11203.0\n",
       "930913       13.0\n",
       "930914       12.0\n",
       "930915       30.0\n",
       "Name: modularity_class, Length: 495026, dtype: float64"
      ]
     },
     "execution_count": 118,
     "metadata": {},
     "output_type": "execute_result"
    }
   ],
   "source": [
    "labeled_df = df.merge(community_df, left_on='user_screen_name', right_on='Label', how='outer')\n",
    "# how many labeled tweets do we have? ~495,000\n",
    "labeled_df['modularity_class'].dropna()"
   ]
  },
  {
   "cell_type": "code",
   "execution_count": 119,
   "metadata": {},
   "outputs": [],
   "source": [
    "#filter out all those rows that don't have an assigned modularity class. Keep unlabeled ones for later use.\n",
    "unlabeled_df = labeled_df[labeled_df['modularity_class'].isna() == True]\n",
    "labeled_df = labeled_df[labeled_df['modularity_class'].isna() == False]"
   ]
  },
  {
   "cell_type": "code",
   "execution_count": 120,
   "metadata": {},
   "outputs": [],
   "source": [
    "#drop the unneeded columns\n",
    "features = [\n",
    "        'id', 'user_location',\n",
    "       'favorite_count', \n",
    "        'retweet_count', \n",
    "       'text', \n",
    "       'user_screen_name', 'user_description',\n",
    "       'user_followers_count', \n",
    "       'user_name', \n",
    "       'modularity_class']\n",
    "labeled_df = labeled_df[features]\n",
    "#rename community column\n",
    "labeled_df.rename(columns={'modularity_class':'community'},inplace=True)"
   ]
  },
  {
   "cell_type": "code",
   "execution_count": 121,
   "metadata": {},
   "outputs": [],
   "source": [
    "#drop the users with no username\n",
    "labeled_df = labeled_df[labeled_df['user_screen_name'].isna() == False]\n",
    "labeled_df['user_screen_name'] = labeled_df['user_screen_name'].astype('str')"
   ]
  },
  {
   "cell_type": "code",
   "execution_count": 122,
   "metadata": {},
   "outputs": [
    {
     "data": {
      "text/plain": [
       "user_screen_name\n",
       "000bangbang000                                                      \n",
       "00LovelyDay00      rt unity probably stop saying name  chanting `...\n",
       "01507db5dba34b2                                            rt rt htt\n",
       "01_zebra                                     next scum complete scum\n",
       "0463diamond        rt `` theme tonight 'compassion criminals '' r...\n",
       "                                         ...                        \n",
       "zunigasalvador     walk water heal sick went roman b really horny...\n",
       "zuriberry          jordan davis mother stop mother child dies mot...\n",
       "zzelda01           rt rt https media plays bernie drama pro-hilla...\n",
       "zzyzxbaker         rt sheeple march near extreme heat chant extre...\n",
       "zzzanthropology    need step needs step prison jumpsuit needs sto...\n",
       "Name: combined_text, Length: 31241, dtype: object"
      ]
     },
     "execution_count": 122,
     "metadata": {},
     "output_type": "execute_result"
    }
   ],
   "source": [
    "# group by username and combine their tweet text, hashtags\n",
    "combined_text = labeled_df.groupby('user_screen_name').apply(lambda x: ' '.join(x['text']))\n",
    "combined_text.rename('combined_text', inplace=True)\n",
    "\n",
    "labeled_df = labeled_df.merge(combined_text, left_on='user_screen_name', right_index=True)\n",
    "\n",
    "user_summary = labeled_df.groupby(['user_screen_name', 'user_location','user_description', 'combined_text', 'community']).mean()\n",
    "user_summary.drop(columns=['id'], inplace=True)\n",
    "user_summary.reset_index(inplace=True)"
   ]
  },
  {
   "cell_type": "markdown",
   "metadata": {},
   "source": [
    "#### 4.) Break top 17 communities into separate df and explore data"
   ]
  },
  {
   "cell_type": "code",
   "execution_count": 151,
   "metadata": {},
   "outputs": [
    {
     "data": {
      "text/html": [
       "<div>\n",
       "<style scoped>\n",
       "    .dataframe tbody tr th:only-of-type {\n",
       "        vertical-align: middle;\n",
       "    }\n",
       "\n",
       "    .dataframe tbody tr th {\n",
       "        vertical-align: top;\n",
       "    }\n",
       "\n",
       "    .dataframe thead th {\n",
       "        text-align: right;\n",
       "    }\n",
       "</style>\n",
       "<table border=\"1\" class=\"dataframe\">\n",
       "  <thead>\n",
       "    <tr style=\"text-align: right;\">\n",
       "      <th></th>\n",
       "      <th>user_screen_name</th>\n",
       "      <th>user_location</th>\n",
       "      <th>user_description</th>\n",
       "      <th>combined_text</th>\n",
       "      <th>community</th>\n",
       "      <th>favorite_count</th>\n",
       "      <th>retweet_count</th>\n",
       "      <th>user_followers_count</th>\n",
       "    </tr>\n",
       "  </thead>\n",
       "  <tbody>\n",
       "    <tr>\n",
       "      <th>0</th>\n",
       "      <td>000bangbang000</td>\n",
       "      <td></td>\n",
       "      <td>ecclesiastes :8 ++there time war time peace++ ...</td>\n",
       "      <td></td>\n",
       "      <td>2.0</td>\n",
       "      <td>2.000000</td>\n",
       "      <td>2.000000</td>\n",
       "      <td>4.0</td>\n",
       "    </tr>\n",
       "    <tr>\n",
       "      <th>1</th>\n",
       "      <td>00LovelyDay00</td>\n",
       "      <td>face usa</td>\n",
       "      <td>speak sarcasm truth people dont criminals 'm p...</td>\n",
       "      <td>rt unity probably stop saying name  chanting `...</td>\n",
       "      <td>30.0</td>\n",
       "      <td>0.333333</td>\n",
       "      <td>180.333333</td>\n",
       "      <td>3917.0</td>\n",
       "    </tr>\n",
       "    <tr>\n",
       "      <th>3</th>\n",
       "      <td>01_zebra</td>\n",
       "      <td>usa</td>\n",
       "      <td>banner maga zebra christian animal doc selah m...</td>\n",
       "      <td>next scum complete scum</td>\n",
       "      <td>30.0</td>\n",
       "      <td>0.000000</td>\n",
       "      <td>0.000000</td>\n",
       "      <td>13395.0</td>\n",
       "    </tr>\n",
       "    <tr>\n",
       "      <th>4</th>\n",
       "      <td>0463diamond</td>\n",
       "      <td></td>\n",
       "      <td></td>\n",
       "      <td>rt `` theme tonight 'compassion criminals '' r...</td>\n",
       "      <td>30.0</td>\n",
       "      <td>0.000000</td>\n",
       "      <td>269.272727</td>\n",
       "      <td>333.0</td>\n",
       "    </tr>\n",
       "    <tr>\n",
       "      <th>5</th>\n",
       "      <td>0516_864</td>\n",
       "      <td>hilton head island sc</td>\n",
       "      <td>life short argue constitutional birthrights</td>\n",
       "      <td>'ve saying neither sent nore received classifi...</td>\n",
       "      <td>30.0</td>\n",
       "      <td>1.000000</td>\n",
       "      <td>0.000000</td>\n",
       "      <td>2646.0</td>\n",
       "    </tr>\n",
       "    <tr>\n",
       "      <th>...</th>\n",
       "      <td>...</td>\n",
       "      <td>...</td>\n",
       "      <td>...</td>\n",
       "      <td>...</td>\n",
       "      <td>...</td>\n",
       "      <td>...</td>\n",
       "      <td>...</td>\n",
       "      <td>...</td>\n",
       "    </tr>\n",
       "    <tr>\n",
       "      <th>31251</th>\n",
       "      <td>zunigasalvador</td>\n",
       "      <td>princeton nj</td>\n",
       "      <td>producer jersey</td>\n",
       "      <td>walk water heal sick went roman b really horny...</td>\n",
       "      <td>2.0</td>\n",
       "      <td>0.000000</td>\n",
       "      <td>0.000000</td>\n",
       "      <td>331.0</td>\n",
       "    </tr>\n",
       "    <tr>\n",
       "      <th>31252</th>\n",
       "      <td>zuriberry</td>\n",
       "      <td>washington dc</td>\n",
       "      <td>senior managing editor send tips zberry wamu d...</td>\n",
       "      <td>jordan davis mother stop mother child dies mot...</td>\n",
       "      <td>61.0</td>\n",
       "      <td>0.625000</td>\n",
       "      <td>1.250000</td>\n",
       "      <td>5939.0</td>\n",
       "    </tr>\n",
       "    <tr>\n",
       "      <th>31253</th>\n",
       "      <td>zzelda01</td>\n",
       "      <td>red hell</td>\n",
       "      <td>strong educated old woman activist child anti-...</td>\n",
       "      <td>rt rt https media plays bernie drama pro-hilla...</td>\n",
       "      <td>13.0</td>\n",
       "      <td>0.333333</td>\n",
       "      <td>9.666667</td>\n",
       "      <td>8555.0</td>\n",
       "    </tr>\n",
       "    <tr>\n",
       "      <th>31254</th>\n",
       "      <td>zzyzxbaker</td>\n",
       "      <td>united states</td>\n",
       "      <td>constitution loving conservative natural born ...</td>\n",
       "      <td>rt sheeple march near extreme heat chant extre...</td>\n",
       "      <td>30.0</td>\n",
       "      <td>0.000000</td>\n",
       "      <td>274.800000</td>\n",
       "      <td>2478.7</td>\n",
       "    </tr>\n",
       "    <tr>\n",
       "      <th>31255</th>\n",
       "      <td>zzzanthropology</td>\n",
       "      <td>el paso tx</td>\n",
       "      <td></td>\n",
       "      <td>need step needs step prison jumpsuit needs sto...</td>\n",
       "      <td>12.0</td>\n",
       "      <td>0.000000</td>\n",
       "      <td>2.333333</td>\n",
       "      <td>1674.0</td>\n",
       "    </tr>\n",
       "  </tbody>\n",
       "</table>\n",
       "<p>26299 rows × 8 columns</p>\n",
       "</div>"
      ],
      "text/plain": [
       "      user_screen_name          user_location  \\\n",
       "0       000bangbang000                          \n",
       "1        00LovelyDay00               face usa   \n",
       "3             01_zebra                    usa   \n",
       "4          0463diamond                          \n",
       "5             0516_864  hilton head island sc   \n",
       "...                ...                    ...   \n",
       "31251   zunigasalvador           princeton nj   \n",
       "31252        zuriberry          washington dc   \n",
       "31253         zzelda01               red hell   \n",
       "31254       zzyzxbaker          united states   \n",
       "31255  zzzanthropology             el paso tx   \n",
       "\n",
       "                                        user_description  \\\n",
       "0      ecclesiastes :8 ++there time war time peace++ ...   \n",
       "1      speak sarcasm truth people dont criminals 'm p...   \n",
       "3      banner maga zebra christian animal doc selah m...   \n",
       "4                                                          \n",
       "5            life short argue constitutional birthrights   \n",
       "...                                                  ...   \n",
       "31251                                    producer jersey   \n",
       "31252  senior managing editor send tips zberry wamu d...   \n",
       "31253  strong educated old woman activist child anti-...   \n",
       "31254  constitution loving conservative natural born ...   \n",
       "31255                                                      \n",
       "\n",
       "                                           combined_text  community  \\\n",
       "0                                                               2.0   \n",
       "1      rt unity probably stop saying name  chanting `...       30.0   \n",
       "3                                next scum complete scum       30.0   \n",
       "4      rt `` theme tonight 'compassion criminals '' r...       30.0   \n",
       "5      've saying neither sent nore received classifi...       30.0   \n",
       "...                                                  ...        ...   \n",
       "31251  walk water heal sick went roman b really horny...        2.0   \n",
       "31252  jordan davis mother stop mother child dies mot...       61.0   \n",
       "31253  rt rt https media plays bernie drama pro-hilla...       13.0   \n",
       "31254  rt sheeple march near extreme heat chant extre...       30.0   \n",
       "31255  need step needs step prison jumpsuit needs sto...       12.0   \n",
       "\n",
       "       favorite_count  retweet_count  user_followers_count  \n",
       "0            2.000000       2.000000                   4.0  \n",
       "1            0.333333     180.333333                3917.0  \n",
       "3            0.000000       0.000000               13395.0  \n",
       "4            0.000000     269.272727                 333.0  \n",
       "5            1.000000       0.000000                2646.0  \n",
       "...               ...            ...                   ...  \n",
       "31251        0.000000       0.000000                 331.0  \n",
       "31252        0.625000       1.250000                5939.0  \n",
       "31253        0.333333       9.666667                8555.0  \n",
       "31254        0.000000     274.800000                2478.7  \n",
       "31255        0.000000       2.333333                1674.0  \n",
       "\n",
       "[26299 rows x 8 columns]"
      ]
     },
     "execution_count": 151,
     "metadata": {},
     "output_type": "execute_result"
    },
    {
     "name": "stdout",
     "output_type": "stream",
     "text": [
      "30.0: 6082\n",
      "13.0: 7483\n",
      "2.0: 4266\n",
      "6.0: 1082\n",
      "8.0: 947\n",
      "61.0: 982\n",
      "58.0: 1104\n",
      "68.0: 896\n",
      "127.0: 595\n",
      "12.0: 550\n",
      "70.0: 332\n",
      "1029.0: 50\n",
      "62.0: 300\n",
      "50.0: 463\n",
      "273.0: 612\n",
      "4382.0: 156\n",
      "32.0: 399\n"
     ]
    }
   ],
   "source": [
    "# select the users that belong to one of the largest 17 communities. Smallest community = 1% of all users. \n",
    "top_communities = [30.0, 13.0, 2.0, 6.0, 8.0, 61.0, 58.0, 68.0, 127.0, 12.0, 70.0, 1029.0, 62.0, 50.0, 273.0, 4382.0, 32.0]\n",
    "\n",
    "#user_summary = user_summary[user_summary['community'] in top_communities]\n",
    "user_summary = user_summary[user_summary['community'].apply(lambda x: x in top_communities)]\n",
    "user_summary\n",
    "\n",
    "#for label in top_communities:\n",
    "#    users = user_summary[user_summary['community'] == label].copy()\n",
    "#    print('Community Label = {}'.format(label))\n",
    "#    plot_wordcloud((' '.join(users['combined_text'])), save=False, stop_words=['demconvention', 'democratic', 'debate', 'dncinphl', 'convention', 'tonight', 'vote'])\n",
    "\n",
    "for label in top_communities:\n",
    "    print('{}:'.format(label), user_summary[user_summary['community'] == float(label)].shape[0])\n",
    "\n",
    "#for label in top_communities:\n",
    "#    users = user_summary[user_summary['community'] == label].copy()\n",
    "#    plot_wordcloud((' '.join(users['user_description'])), save=False, stop_words=['demconvention', 'democratic', 'debate', 'dncinphl', 'convention', 'tonight', 'vote'])\n"
   ]
  },
  {
   "cell_type": "markdown",
   "metadata": {},
   "source": [
    "#### 5.) Vectorize / TFIDF"
   ]
  },
  {
   "cell_type": "code",
   "execution_count": 153,
   "metadata": {},
   "outputs": [],
   "source": [
    "from sklearn.feature_extraction.text import TfidfVectorizer\n",
    "from sklearn import metrics\n",
    "from sklearn.model_selection import train_test_split\n",
    "from sklearn.linear_model import LogisticRegression, SGDClassifier\n",
    "from sklearn.ensemble import RandomForestClassifier\n",
    "from sklearn.naive_bayes import BernoulliNB, ComplementNB, MultinomialNB\n",
    "from sklearn.metrics import confusion_matrix, plot_confusion_matrix\n",
    "\n",
    "vectorizer = TfidfVectorizer()\n",
    "\n",
    "\n",
    "X = user_summary['user_description'] + user_summary['combined_text']\n",
    "y = user_summary['community']\n",
    "\n",
    "X_train, X_test, y_train, y_test = train_test_split(X,y, stratify=y)\n",
    "\n",
    "X_train = vectorizer.fit_transform(X_train)\n",
    "X_test = vectorizer.transform(X_test)"
   ]
  },
  {
   "cell_type": "code",
   "execution_count": 154,
   "metadata": {},
   "outputs": [
    {
     "data": {
      "text/plain": [
       "<bound method BaseEstimator.get_params of TfidfVectorizer(analyzer='word', binary=False, decode_error='strict',\n",
       "                dtype=<class 'numpy.float64'>, encoding='utf-8',\n",
       "                input='content', lowercase=True, max_df=1.0, max_features=None,\n",
       "                min_df=1, ngram_range=(1, 1), norm='l2', preprocessor=None,\n",
       "                smooth_idf=True, stop_words=None, strip_accents=None,\n",
       "                sublinear_tf=False, token_pattern='(?u)\\\\b\\\\w\\\\w+\\\\b',\n",
       "                tokenizer=None, use_idf=True, vocabulary=None)>"
      ]
     },
     "execution_count": 154,
     "metadata": {},
     "output_type": "execute_result"
    }
   ],
   "source": [
    "vectorizer.get_params"
   ]
  },
  {
   "cell_type": "code",
   "execution_count": 172,
   "metadata": {},
   "outputs": [
    {
     "name": "stderr",
     "output_type": "stream",
     "text": [
      "/Users/jacobmullins/opt/anaconda3/lib/python3.7/site-packages/sklearn/linear_model/_logistic.py:940: ConvergenceWarning: lbfgs failed to converge (status=1):\n",
      "STOP: TOTAL NO. of ITERATIONS REACHED LIMIT.\n",
      "\n",
      "Increase the number of iterations (max_iter) or scale the data as shown in:\n",
      "    https://scikit-learn.org/stable/modules/preprocessing.html\n",
      "Please also refer to the documentation for alternative solver options:\n",
      "    https://scikit-learn.org/stable/modules/linear_model.html#logistic-regression\n",
      "  extra_warning_msg=_LOGISTIC_SOLVER_CONVERGENCE_MSG)\n"
     ]
    },
    {
     "data": {
      "text/plain": [
       "LogisticRegression(C=1.0, class_weight='balanced', dual=False,\n",
       "                   fit_intercept=True, intercept_scaling=1, l1_ratio=None,\n",
       "                   max_iter=100, multi_class='auto', n_jobs=None, penalty='l2',\n",
       "                   random_state=None, solver='lbfgs', tol=0.0001, verbose=0,\n",
       "                   warm_start=False)"
      ]
     },
     "execution_count": 172,
     "metadata": {},
     "output_type": "execute_result"
    },
    {
     "name": "stdout",
     "output_type": "stream",
     "text": [
      "Logistic Regression Model Score: 0.40152091254752853\n"
     ]
    },
    {
     "data": {
      "text/plain": [
       "RandomForestClassifier(bootstrap=True, ccp_alpha=0.0, class_weight='balanced',\n",
       "                       criterion='gini', max_depth=None, max_features='auto',\n",
       "                       max_leaf_nodes=None, max_samples=None,\n",
       "                       min_impurity_decrease=0.0, min_impurity_split=None,\n",
       "                       min_samples_leaf=1, min_samples_split=2,\n",
       "                       min_weight_fraction_leaf=0.0, n_estimators=100,\n",
       "                       n_jobs=None, oob_score=False, random_state=None,\n",
       "                       verbose=0, warm_start=False)"
      ]
     },
     "execution_count": 172,
     "metadata": {},
     "output_type": "execute_result"
    },
    {
     "name": "stdout",
     "output_type": "stream",
     "text": [
      "Random Forest Model Score: 0.47452471482889735\n"
     ]
    },
    {
     "data": {
      "text/plain": [
       "SGDClassifier(alpha=0.0001, average=False, class_weight='balanced',\n",
       "              early_stopping=False, epsilon=0.1, eta0=0.0, fit_intercept=True,\n",
       "              l1_ratio=0.15, learning_rate='optimal', loss='hinge',\n",
       "              max_iter=1000, n_iter_no_change=5, n_jobs=None, penalty='l2',\n",
       "              power_t=0.5, random_state=None, shuffle=True, tol=0.001,\n",
       "              validation_fraction=0.1, verbose=0, warm_start=False)"
      ]
     },
     "execution_count": 172,
     "metadata": {},
     "output_type": "execute_result"
    },
    {
     "name": "stdout",
     "output_type": "stream",
     "text": [
      "SGD Model Score: 0.3898098859315589\n"
     ]
    },
    {
     "data": {
      "text/plain": [
       "MultinomialNB(alpha=1.0, class_prior=None, fit_prior=True)"
      ]
     },
     "execution_count": 172,
     "metadata": {},
     "output_type": "execute_result"
    },
    {
     "name": "stdout",
     "output_type": "stream",
     "text": [
      "NB Model Score: 0.48365019011406846\n"
     ]
    }
   ],
   "source": [
    "#logistic model\n",
    "lr = LogisticRegression(class_weight='balanced')\n",
    "lr.fit(X_train, y_train);\n",
    "lr_predict = lr.predict(X_test)\n",
    "lr_score = lr.score(X_test, y_test)\n",
    "print('Logistic Regression Model Score: {}'.format(lr_score))\n",
    "\n",
    "#random forest\n",
    "rf = RandomForestClassifier(class_weight='balanced')\n",
    "rf.fit(X_train, y_train);\n",
    "rf_predict = rf.predict(X_test)\n",
    "rf_score = rf.score(X_test, y_test)\n",
    "print('Random Forest Model Score: {}'.format(rf_score))\n",
    "\n",
    "#stochastic gradient descent\n",
    "sgd = SGDClassifier(class_weight='balanced')\n",
    "sgd.fit(X_train, y_train);\n",
    "sgd_predict = sgd.predict(X_test)        \n",
    "sgd_score = sgd.score(X_test, y_test)\n",
    "print('SGD Model Score: {}'.format(sgd_score))\n",
    "\n",
    "#naive_bayes\n",
    "nb = MultinomialNB()\n",
    "nb.fit(X_train, y_train);\n",
    "nb_predict = nb.predict(X_test)\n",
    "nb_score = nb.score(X_test, y_test)\n",
    "print('NB Model Score: {}'.format(nb_score))"
   ]
  },
  {
   "cell_type": "code",
   "execution_count": 176,
   "metadata": {},
   "outputs": [
    {
     "data": {
      "text/plain": [
       "<sklearn.metrics._plot.confusion_matrix.ConfusionMatrixDisplay at 0x1b6eb6fb90>"
      ]
     },
     "execution_count": 176,
     "metadata": {},
     "output_type": "execute_result"
    },
    {
     "data": {
      "image/png": "[encoded data removed]",
      "text/plain": [
       "<Figure size 1224x1224 with 2 Axes>"
      ]
     },
     "metadata": {
      "needs_background": "light"
     },
     "output_type": "display_data"
    }
   ],
   "source": [
    "# plot confusion matrix\n",
    "fig, ax = plt.subplots(figsize=(17,17))\n",
    "\n",
    "cf = confusion_matrix(nb_predict, y_test)\n",
    "plot_confusion_matrix(nb, X_test, y_test, cmap='cool', ax=ax)"
   ]
  },
  {
   "cell_type": "code",
   "execution_count": 163,
   "metadata": {},
   "outputs": [
    {
     "data": {
      "text/html": [
       "<div>\n",
       "<style scoped>\n",
       "    .dataframe tbody tr th:only-of-type {\n",
       "        vertical-align: middle;\n",
       "    }\n",
       "\n",
       "    .dataframe tbody tr th {\n",
       "        vertical-align: top;\n",
       "    }\n",
       "\n",
       "    .dataframe thead th {\n",
       "        text-align: right;\n",
       "    }\n",
       "</style>\n",
       "<table border=\"1\" class=\"dataframe\">\n",
       "  <thead>\n",
       "    <tr style=\"text-align: right;\">\n",
       "      <th></th>\n",
       "      <th>feature</th>\n",
       "      <th>tfidf</th>\n",
       "    </tr>\n",
       "  </thead>\n",
       "  <tbody>\n",
       "    <tr>\n",
       "      <th>0</th>\n",
       "      <td>awarebusting</td>\n",
       "      <td>0.350711</td>\n",
       "    </tr>\n",
       "    <tr>\n",
       "      <th>1</th>\n",
       "      <td>cousins</td>\n",
       "      <td>0.326870</td>\n",
       "    </tr>\n",
       "    <tr>\n",
       "      <th>2</th>\n",
       "      <td>corporation</td>\n",
       "      <td>0.307622</td>\n",
       "    </tr>\n",
       "    <tr>\n",
       "      <th>3</th>\n",
       "      <td>desperation</td>\n",
       "      <td>0.295354</td>\n",
       "    </tr>\n",
       "    <tr>\n",
       "      <th>4</th>\n",
       "      <td>legitimate</td>\n",
       "      <td>0.256439</td>\n",
       "    </tr>\n",
       "    <tr>\n",
       "      <th>5</th>\n",
       "      <td>reid</td>\n",
       "      <td>0.234892</td>\n",
       "    </tr>\n",
       "    <tr>\n",
       "      <th>6</th>\n",
       "      <td>company</td>\n",
       "      <td>0.229930</td>\n",
       "    </tr>\n",
       "    <tr>\n",
       "      <th>7</th>\n",
       "      <td>harry</td>\n",
       "      <td>0.223831</td>\n",
       "    </tr>\n",
       "    <tr>\n",
       "      <th>8</th>\n",
       "      <td>america</td>\n",
       "      <td>0.219991</td>\n",
       "    </tr>\n",
       "    <tr>\n",
       "      <th>9</th>\n",
       "      <td>acting</td>\n",
       "      <td>0.217203</td>\n",
       "    </tr>\n",
       "  </tbody>\n",
       "</table>\n",
       "</div>"
      ],
      "text/plain": [
       "        feature     tfidf\n",
       "0  awarebusting  0.350711\n",
       "1       cousins  0.326870\n",
       "2   corporation  0.307622\n",
       "3   desperation  0.295354\n",
       "4    legitimate  0.256439\n",
       "5          reid  0.234892\n",
       "6       company  0.229930\n",
       "7         harry  0.223831\n",
       "8       america  0.219991\n",
       "9        acting  0.217203"
      ]
     },
     "execution_count": 163,
     "metadata": {},
     "output_type": "execute_result"
    }
   ],
   "source": [
    "# Plot top tf-idf features\n",
    "# Author: Peter Prettenhofer <peter.prettenhofer@gmail.com>\n",
    "#         Olivier Grisel <olivier.grisel@ensta.org>\n",
    "#         Mathieu Blondel <mathieu@mblondel.org>\n",
    "#         Lars Buitinck\n",
    "# License: BSD 3 clause\n",
    "\n",
    "def top_tfidf_feats(row, features, top_n=10):\n",
    "    ''' Get top n tfidf values in row and return them with their corresponding feature names.'''\n",
    "    topn_ids = np.argsort(row)[::-1][:top_n]\n",
    "    top_feats = [(features[i], row[i]) for i in topn_ids]\n",
    "    df = pd.DataFrame(top_feats)\n",
    "    df.columns = ['feature', 'tfidf']\n",
    "    return df\n",
    "\n",
    "def top_feats_in_doc(Xtr, features, row_id, top_n=10):\n",
    "    row = np.squeeze(Xtr[row_id].toarray())\n",
    "    return top_tfidf_feats(row, features, top_n)\n",
    "\n",
    "feature_names=vectorizer.get_feature_names()\n",
    "top_feats_in_doc(X_train,feature_names,1)"
   ]
  },
  {
   "cell_type": "code",
   "execution_count": 164,
   "metadata": {},
   "outputs": [],
   "source": [
    "def top_mean_feats(Xtr, features, grp_ids=None, min_tfidf=0.1, top_n=25):\n",
    "    ''' Return the top n features that on average are most important amongst documents in rows\n",
    "        indentified by indices in grp_ids. '''\n",
    "    if grp_ids:\n",
    "        D = Xtr[grp_ids].toarray()\n",
    "    else:\n",
    "        D = Xtr.toarray()\n",
    "\n",
    "    D[D < min_tfidf] = 0\n",
    "    tfidf_means = np.mean(D, axis=0)\n",
    "    return top_tfidf_feats(tfidf_means, features, top_n)\n",
    "\n",
    "def top_feats_by_class(Xtr, y, features, min_tfidf=0.1, top_n=25):\n",
    "    ''' Return a list of dfs, where each df holds top_n features and their mean tfidf value\n",
    "        calculated across documents with the same class label. '''\n",
    "    dfs = []\n",
    "    labels = np.unique(y)\n",
    "    for label in labels:\n",
    "        ids = np.where(y==label)\n",
    "        feats_df = top_mean_feats(Xtr, features, ids, min_tfidf=min_tfidf, top_n=top_n)\n",
    "        feats_df.label = label\n",
    "        dfs.append(feats_df)\n",
    "    return dfs\n",
    "dfs=top_feats_by_class(X_train,y_train,feature_names, top_n=10)"
   ]
  },
  {
   "cell_type": "code",
   "execution_count": 165,
   "metadata": {},
   "outputs": [
    {
     "data": {
      "text/plain": [
       "17"
      ]
     },
     "execution_count": 165,
     "metadata": {},
     "output_type": "execute_result"
    }
   ],
   "source": [
    "len(dfs)"
   ]
  },
  {
   "cell_type": "code",
   "execution_count": 171,
   "metadata": {},
   "outputs": [
    {
     "data": {
      "image/png": "[encoded data removed]",
      "text/plain": [
       "<Figure size 2592x1944 with 17 Axes>"
      ]
     },
     "metadata": {},
     "output_type": "display_data"
    },
    {
     "data": {
      "text/plain": [
       "<Figure size 432x288 with 0 Axes>"
      ]
     },
     "metadata": {},
     "output_type": "display_data"
    }
   ],
   "source": [
    "def plot_tfidf_classfeats_h(dfs):\n",
    "    ''' Plot the data frames returned by the function plot_tfidf_classfeats(). '''\n",
    "    fig = plt.figure(figsize=(36, 27), facecolor=\"w\",)\n",
    "    x = np.arange(len(dfs[0]))\n",
    "    for i, df in enumerate(dfs):\n",
    "        ax = fig.add_subplot(1, len(dfs), i+1)\n",
    "        ax.spines[\"top\"].set_visible(False)\n",
    "        ax.spines[\"right\"].set_visible(False)\n",
    "        ax.set_frame_on(False)\n",
    "        ax.get_xaxis().tick_bottom()\n",
    "        ax.get_yaxis().tick_left()\n",
    "        ax.set_xlabel(\"Mean Tf-Idf Score\", labelpad=16, fontsize=14)\n",
    "        ax.set_title(\"label = \" + str(df.label), fontsize=16)\n",
    "        ax.ticklabel_format(axis='x', style='sci', scilimits=(-2,2))\n",
    "        ax.barh(x, df.tfidf, align='center')\n",
    "        ax.set_yticks(x)\n",
    "        ax.set_ylim([-1, x[-1]+1])\n",
    "        yticks = ax.set_yticklabels(df.feature)\n",
    "        plt.subplots_adjust(bottom=0.09, right=0.97, left=0.15, top=0.95, wspace=0.52)\n",
    "    plt.set_cmap('viridis')    \n",
    "    plt.show()\n",
    "    plt.set_cmap('viridis')\n",
    "\n",
    "plot_tfidf_classfeats_h(dfs)\n",
    "plt.savefig('data/democrat/17_class_tfidf.png', dpi=240)"
   ]
  },
  {
   "cell_type": "code",
   "execution_count": null,
   "metadata": {},
   "outputs": [],
   "source": []
  },
  {
   "cell_type": "code",
   "execution_count": null,
   "metadata": {},
   "outputs": [],
   "source": []
  },
  {
   "cell_type": "code",
   "execution_count": null,
   "metadata": {},
   "outputs": [],
   "source": []
  },
  {
   "cell_type": "markdown",
   "metadata": {},
   "source": [
    "# Citations\n",
    "GloVe - Jeffrey Pennington, Richard Socher, and Christopher D. Manning. 2014. GloVe: Global Vectors for Word Representation. [pdf] [bib]\n",
    "\n",
    "Word2Vec - Mikolov, Tomas; et al. (2013). \"Efficient Estimation of Word Representations in Vector Space\"\n",
    "\n",
    "K-means code adapted from a former galvanize student's capstone https://github.com/walker777007/A-Deep-Dive-into-Reddit-Comments\n",
    "\n",
    "TF-IDF Plots: https://github.com/GalvanizeDataScience/lectures/blob/NYC/nlp/plot_document_classification_20newsgroups_v3.ipynb"
   ]
  },
  {
   "cell_type": "code",
   "execution_count": null,
   "metadata": {},
   "outputs": [],
   "source": [
    "\n"
   ]
  }
 ],
 "metadata": {
  "kernelspec": {
   "display_name": "Python 3",
   "language": "python",
   "name": "python3"
  },
  "language_info": {
   "codemirror_mode": {
    "name": "ipython",
    "version": 3
   },
   "file_extension": ".py",
   "mimetype": "text/x-python",
   "name": "python",
   "nbconvert_exporter": "python",
   "pygments_lexer": "ipython3",
   "version": "3.7.6"
  }
 },
 "nbformat": 4,
 "nbformat_minor": 4
}
