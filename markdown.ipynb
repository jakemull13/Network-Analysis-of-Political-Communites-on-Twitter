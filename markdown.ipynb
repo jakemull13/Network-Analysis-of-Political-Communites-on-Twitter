{
 "cells": [
  {
   "cell_type": "markdown",
   "metadata": {},
   "source": [
    "# Network Analysis of the 2016 Democratic  Convention\n",
    "### *Identifying political communities on twitter using graph theory and natural language processing*\n"
   ]
  },
  {
   "cell_type": "markdown",
   "metadata": {},
   "source": [
    "### Introduction to Network Analysis\n",
    "\n",
    "- Graphs made with Gephi Software \n",
    "- Nodes = Users\n",
    "- Edges =  Tweets\n",
    "- Nodes are weighted by the sum of their edges\n",
    "\n",
    "Data:\n",
    "- 130,000 tweets about the 2016 DNC convention\n",
    "- 8,329 Nodes\n",
    "- 34,143 Edges \n",
    "- User metadata for each tweet\n"
   ]
  },
  {
   "cell_type": "markdown",
   "metadata": {},
   "source": [
    "### Network Graph\n",
    "<img src = 'graphs/network_bw.png'>\n",
    "\n",
    "### Partitioned Users\n",
    "<img src = 'graphs/network_partitioned.png'>"
   ]
  },
  {
   "cell_type": "markdown",
   "metadata": {},
   "source": []
  },
  {
   "cell_type": "markdown",
   "metadata": {},
   "source": [
    "### Labeling Communities\n",
    "- What words do members of the community use most frequently in conversation? \n",
    "- What words do members of the community use to describe themselves?\n",
    "- Who are the top 5 most influential users in the community? \n",
    "- What terms/words are most significant in defining the community (TF-IDF)\n"
   ]
  },
  {
   "cell_type": "markdown",
   "metadata": {},
   "source": [
    "### What words do members of the community most frequently use to describe themselves?\n",
    "Example: Community 29\n",
    "<img src='wordclouds/description_29.png'>\n",
    "\n",
    "### What words do members of the community most frequently use in their tweets?\n",
    "Example: Community 29\n",
    "<img src='wordclouds/tweets_29.png'>"
   ]
  },
  {
   "cell_type": "markdown",
   "metadata": {},
   "source": [
    "### Extract the most important keywords used by each community\n",
    "<img src='graphs/tfidf.png'>\n",
    "With labels:\n",
    "<img src='graphs/tfidf_labels.png'>\n",
    "\n",
    "### Find the most influential users in each community\n",
    "- Example: Top 5 users in community 29\n",
    "<img src='graphs/top5users_70.png'>"
   ]
  },
  {
   "cell_type": "markdown",
   "metadata": {},
   "source": [
    "### Predicting User Community: Accuracy \n",
    "\n",
    "\n",
    "For each user, combine their description with the text of all their tweets.\n",
    "“Vectorize” the text data and fit models using the Scikit Learn module.\n",
    "\n",
    "\n",
    "- Logistic Regression Model: 0.47\n",
    "- Random Forest Model: 0.46\n",
    "- Stochastic Gradient Descent Model: 0.48\n",
    "- Naive Bayes Model: 0.45\n"
   ]
  },
  {
   "cell_type": "markdown",
   "metadata": {},
   "source": [
    "### Limitations:\n",
    "\n",
    "- Only 902 twitter users in final dataset\n",
    "- Multiple classification with 5 classes \n",
    "- Gephi can only handle so much data at a time.\n",
    "\n",
    "### Future Work:\n",
    "\n",
    "- Perform sentiment analysis on each tweet (positive or negative)\n",
    "- Reduce the number of classes\n",
    "- Run the network analysis on a virtual machine with more memory and computational power.\n",
    "\n"
   ]
  },
  {
   "cell_type": "code",
   "execution_count": null,
   "metadata": {},
   "outputs": [],
   "source": []
  }
 ],
 "metadata": {
  "kernelspec": {
   "display_name": "Python 3",
   "language": "python",
   "name": "python3"
  },
  "language_info": {
   "codemirror_mode": {
    "name": "ipython",
    "version": 3
   },
   "file_extension": ".py",
   "mimetype": "text/x-python",
   "name": "python",
   "nbconvert_exporter": "python",
   "pygments_lexer": "ipython3",
   "version": "3.7.6"
  }
 },
 "nbformat": 4,
 "nbformat_minor": 4
}
